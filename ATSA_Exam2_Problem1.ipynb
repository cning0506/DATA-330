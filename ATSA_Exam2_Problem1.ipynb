{
  "nbformat": 4,
  "nbformat_minor": 0,
  "metadata": {
    "colab": {
      "name": "ATSA_Exam2_Problem1.ipynb",
      "provenance": [],
      "collapsed_sections": []
    },
    "kernelspec": {
      "name": "ir",
      "display_name": "R"
    }
  },
  "cells": [
    {
      "cell_type": "markdown",
      "metadata": {
        "id": "lqkahV4uX8Rp"
      },
      "source": [
        "# Applied Time Series Analysis: Exam 2 - Problem 1\n",
        "\n",
        "\n",
        "\n",
        "\n",
        "* Created by Conrad Ning \n",
        "* Last edited: 2021-04-07\n",
        "\n"
      ]
    },
    {
      "cell_type": "markdown",
      "metadata": {
        "id": "w5jvgX7C0Phb"
      },
      "source": [
        "##Problem 1: \n",
        "Choose three variables from any datasets in Block 2, define them, and using what you have learned in Block 1 determine the dominant frequencies (if any) of each. In about 500 words or less discuss/explain your findings.\n",
        "\n",
        "\n",
        "Your submission should be an .ipynb or .pdf and include:\n",
        "* a description of the three variables you chose (e.g., what are they, what units are they in, where did they come from),\n",
        "* a brief explanation of your methods\n",
        "* a discussion of your findings\n",
        "* any visuals to assist your discussion\n"
      ]
    },
    {
      "cell_type": "markdown",
      "metadata": {
        "id": "_mjmLpxL9Clv"
      },
      "source": [
        "**Data Description**\n",
        "\n",
        "For this problem, I will be using the data we used for Exercise 2.1.\n",
        "\n",
        "The three variables that I will chose are water potential(kPa), voltage (mV), and temperature (degrees celsius).  \n",
        "\n",
        "\n",
        "\n",
        "These data were collected by a network of autonomous wireless sensor nodes collected data from two field sites in a forested hillsloped region of Western Pennsylvania (Davis, 2012). Each sensor node at 15-minute intervals from three connected analog sensors (ADC0, ADC1 and ADC2).The remaining unused sensor channels (ADC3, ADC4, ADC5, ADC6) may be ignored.\n",
        "\n",
        "Identical to Exercise 2.1, the data files are available on our GitHub.\n",
        "\n",
        "* [MDA300BKUP_resultsConverted-2YR_2003](https://raw.githubusercontent.com/ds-wm/ds-wm.github.io/master/course/atsa/data/MDA300BKUP_resultsConverted-2YR_2003.txt)\n",
        "* [MDA300BKUP_resultsConverted-2YR_2015](https://raw.githubusercontent.com/ds-wm/ds-wm.github.io/master/course/atsa/data/MDA300BKUP_resultsConverted-2YR_2015.txt)\n",
        "* [MDA300BKUP_resultsConverted-2YR_2025](https://raw.githubusercontent.com/ds-wm/ds-wm.github.io/master/course/atsa/data/MDA300BKUP_resultsConverted-2YR_2025.txt)\n",
        "* [MDA300BKUP_resultsConverted-2YR_2045](https://raw.githubusercontent.com/ds-wm/ds-wm.github.io/master/course/atsa/data/MDA300BKUP_resultsConverted-2YR_2045.txt)\n",
        "* [MDA300BKUP_resultsConverted-2YR_2055](https://raw.githubusercontent.com/ds-wm/ds-wm.github.io/master/course/atsa/data/MDA300BKUP_resultsConverted-2YR_2055.txt)\n",
        "* [MDA300BKUP_resultsConverted-2YR_2065](https://raw.githubusercontent.com/ds-wm/ds-wm.github.io/master/course/atsa/data/MDA300BKUP_resultsConverted-2YR_2065.txt)\n",
        "* [MDA300BKUP_resultsConverted-2YR_2085](https://raw.githubusercontent.com/ds-wm/ds-wm.github.io/master/course/atsa/data/MDA300BKUP_resultsConverted-2YR_2085.txt)\n",
        "* [MDA300BKUP_resultsConverted-2YR_2095](https://raw.githubusercontent.com/ds-wm/ds-wm.github.io/master/course/atsa/data/MDA300BKUP_resultsConverted-2YR_2095.txt)\n",
        "* [MDA300BKUP_resultsConverted-2YR_2103](https://raw.githubusercontent.com/ds-wm/ds-wm.github.io/master/course/atsa/data/MDA300BKUP_resultsConverted-2YR_2103.txt)\n",
        "* [MDA300BKUP_resultsConverted-2YR_2115](https://raw.githubusercontent.com/ds-wm/ds-wm.github.io/master/course/atsa/data/MDA300BKUP_resultsConverted-2YR_2115.txt)\n",
        "* [MDA300BKUP_resultsConverted-2YR_2125](https://raw.githubusercontent.com/ds-wm/ds-wm.github.io/master/course/atsa/data/MDA300BKUP_resultsConverted-2YR_2125.txt)\n",
        "* [MDA300BKUP_resultsConverted-2YR_2135](https://raw.githubusercontent.com/ds-wm/ds-wm.github.io/master/course/atsa/data/MDA300BKUP_resultsConverted-2YR_2135.txt)\n",
        "\n"
      ]
    },
    {
      "cell_type": "markdown",
      "metadata": {
        "id": "0qkNVRfo5a0N"
      },
      "source": [
        "## Methodology \n",
        "I will be using the similar technique that we use for Exercise 2.1 to generate duplicate-free data and convert them into time series data. For the duplicate-free data, we want to generate the data table with 24 hour interval. This is because the data points will be less dense when we are trying to observe the periodogram. With a time series data, we will plot the periodogram to identify the dominant frequencies of these variables. Based on our observation, we can assume a minimum condition as the filter to extract the dominant frequencies. As a result, we will get the periodgram value and the value or a range (if the samples are too dense and the dominant frequencies seem vague) of the dominant frequencies. The complete code snippet is shown after the Analysis Section. "
      ]
    },
    {
      "cell_type": "markdown",
      "metadata": {
        "id": "pCRiob0_2HzT"
      },
      "source": [
        "## Analysis \n",
        "We have the periodograms for the three varaibles we selected, water potential (mV), humidity (percentage relative humidity), and temperature (degrees celsius). We will first take a look at the water potential periodogram. We can tell that the dominant frequencies are display more at the beginning of the plot, which is between $f$= 0.01 and $f$ = 0.06. After inspecting the plot visually,the qualified periodogram value of the dominant frequencies would be somewhere greater than 15. The exact periodogram values of the dominant frequencies are 32.392, 17.065, 15.384, and 16.889. The respective frequencies of these values are locating at $f$ = 0.031, $f$ =  0.059, $f$ = 0.065, and $f$ = 0.059. \n",
        "\n",
        "\n",
        "Similarly, both humidity and temperature has their dominant frequencies concentrating at the beginning of the periodogram, which is between $f$= 0.01 and $f$ = 0.03. For voltage, we can see that the top three dominant frequecies are above the value of 20. The exact periodogram values are 25.594, 29.937, and 21.102. The respective frequencies of these values are locating at $f$ = 0.039, $f$ =  0.033, and $f$ = 0.047, which is pretty close to the range of observation. \n",
        "\n",
        "\n",
        "For temperature, there is an obvious peak with the value over 60. Hence, we will take 60 as the qualified value for the dominant frquency. We get the periodogram value of 75.999. The respective frequency of the periodogram value is locating at $f$ = 0.013."
      ]
    },
    {
      "cell_type": "code",
      "metadata": {
        "colab": {
          "base_uri": "https://localhost:8080/",
          "height": 437
        },
        "id": "mDGiwcodMNpj",
        "outputId": "62449d4a-11ea-483f-e0e5-4d0cc0901a5b"
      },
      "source": [
        "# Periodogram for Variable Water Potential\n",
        "water.pgram <- period.wge(dpFreeHour24$adc0,dbcalc=F)"
      ],
      "execution_count": 29,
      "outputs": [
        {
          "output_type": "display_data",
          "data": {
            "image/png": "[encoded data removed]",
            "text/plain": [
              "Plot with title “Periodogram”"
            ]
          },
          "metadata": {
            "tags": [],
            "image/png": {
              "width": 420,
              "height": 420
            }
          }
        }
      ]
    },
    {
      "cell_type": "code",
      "metadata": {
        "colab": {
          "base_uri": "https://localhost:8080/",
          "height": 34
        },
        "id": "0xPkXXt-KMWR",
        "outputId": "ad9a5b93-2926-467b-b9f8-be2e7b3623eb"
      },
      "source": [
        "filter = water.pgram$pgram > 15\n",
        "water.dom <- water.pgram$pgram[filter]\n",
        "water.dom"
      ],
      "execution_count": 43,
      "outputs": [
        {
          "output_type": "display_data",
          "data": {
            "text/plain": [
              "[1] 32.39155 17.06539 15.38420 16.88921"
            ],
            "text/latex": "\\begin{enumerate*}\n\\item 32.3915502050091\n\\item 17.0653892791293\n\\item 15.3841987013593\n\\item 16.8892074393971\n\\end{enumerate*}\n",
            "text/markdown": "1. 32.3915502050091\n2. 17.0653892791293\n3. 15.3841987013593\n4. 16.8892074393971\n\n\n",
            "text/html": [
              "<style>\n",
              ".list-inline {list-style: none; margin:0; padding: 0}\n",
              ".list-inline>li {display: inline-block}\n",
              ".list-inline>li:not(:last-child)::after {content: \"\\00b7\"; padding: 0 .5ex}\n",
              "</style>\n",
              "<ol class=list-inline><li>32.3915502050091</li><li>17.0653892791293</li><li>15.3841987013593</li><li>16.8892074393971</li></ol>\n"
            ]
          },
          "metadata": {
            "tags": []
          }
        }
      ]
    },
    {
      "cell_type": "code",
      "metadata": {
        "colab": {
          "base_uri": "https://localhost:8080/",
          "height": 34
        },
        "id": "F3ZbTQQnN7MC",
        "outputId": "a487e596-c313-408d-9c82-df893bdcd22f"
      },
      "source": [
        "water.periods <- 1/water.dom\n",
        "water.periods"
      ],
      "execution_count": 38,
      "outputs": [
        {
          "output_type": "display_data",
          "data": {
            "text/plain": [
              "[1] 0.03087225 0.05859814 0.06500176 0.05920941"
            ],
            "text/latex": "\\begin{enumerate*}\n\\item 0.0308722488942613\n\\item 0.0585981358903416\n\\item 0.0650017605344401\n\\item 0.0592094095349507\n\\end{enumerate*}\n",
            "text/markdown": "1. 0.0308722488942613\n2. 0.0585981358903416\n3. 0.0650017605344401\n4. 0.0592094095349507\n\n\n",
            "text/html": [
              "<style>\n",
              ".list-inline {list-style: none; margin:0; padding: 0}\n",
              ".list-inline>li {display: inline-block}\n",
              ".list-inline>li:not(:last-child)::after {content: \"\\00b7\"; padding: 0 .5ex}\n",
              "</style>\n",
              "<ol class=list-inline><li>0.0308722488942613</li><li>0.0585981358903416</li><li>0.0650017605344401</li><li>0.0592094095349507</li></ol>\n"
            ]
          },
          "metadata": {
            "tags": []
          }
        }
      ]
    },
    {
      "cell_type": "code",
      "metadata": {
        "colab": {
          "base_uri": "https://localhost:8080/",
          "height": 437
        },
        "id": "zs6JEJoMMKv1",
        "outputId": "ca16cd82-341c-470c-ec9f-81f232e9abe5"
      },
      "source": [
        "# Periodogram for Variable Voltage\n",
        "voltage.pgram <- period.wge(dpFreeHour24$voltage,dbcalc=F)"
      ],
      "execution_count": 28,
      "outputs": [
        {
          "output_type": "display_data",
          "data": {
            "image/png": "[encoded data removed]",
            "text/plain": [
              "Plot with title “Periodogram”"
            ]
          },
          "metadata": {
            "tags": [],
            "image/png": {
              "width": 420,
              "height": 420
            }
          }
        }
      ]
    },
    {
      "cell_type": "code",
      "metadata": {
        "colab": {
          "base_uri": "https://localhost:8080/",
          "height": 34
        },
        "id": "0eDcavuBLK7m",
        "outputId": "bcfec77e-a843-4eb5-a9e1-106d2a05d2f9"
      },
      "source": [
        "filter = voltage.pgram$pgram > 20\n",
        "voltage.dom <- voltage.pgram$pgram[filter]\n",
        "voltage.dom"
      ],
      "execution_count": 41,
      "outputs": [
        {
          "output_type": "display_data",
          "data": {
            "text/plain": [
              "[1] 25.59398 29.93673 21.10226"
            ],
            "text/latex": "\\begin{enumerate*}\n\\item 25.5939784603748\n\\item 29.936728382257\n\\item 21.1022556678114\n\\end{enumerate*}\n",
            "text/markdown": "1. 25.5939784603748\n2. 29.936728382257\n3. 21.1022556678114\n\n\n",
            "text/html": [
              "<style>\n",
              ".list-inline {list-style: none; margin:0; padding: 0}\n",
              ".list-inline>li {display: inline-block}\n",
              ".list-inline>li:not(:last-child)::after {content: \"\\00b7\"; padding: 0 .5ex}\n",
              "</style>\n",
              "<ol class=list-inline><li>25.5939784603748</li><li>29.936728382257</li><li>21.1022556678114</li></ol>\n"
            ]
          },
          "metadata": {
            "tags": []
          }
        }
      ]
    },
    {
      "cell_type": "code",
      "metadata": {
        "colab": {
          "base_uri": "https://localhost:8080/",
          "height": 34
        },
        "id": "OwuFJhiSPBHN",
        "outputId": "0cbc2e35-b3bf-47c5-f9d7-6f6cf1d83d92"
      },
      "source": [
        "1/voltage.dom"
      ],
      "execution_count": 42,
      "outputs": [
        {
          "output_type": "display_data",
          "data": {
            "text/plain": [
              "[1] 0.03907169 0.03340378 0.04738830"
            ],
            "text/latex": "\\begin{enumerate*}\n\\item 0.0390716903020069\n\\item 0.0334037837144784\n\\item 0.0473882989449968\n\\end{enumerate*}\n",
            "text/markdown": "1. 0.0390716903020069\n2. 0.0334037837144784\n3. 0.0473882989449968\n\n\n",
            "text/html": [
              "<style>\n",
              ".list-inline {list-style: none; margin:0; padding: 0}\n",
              ".list-inline>li {display: inline-block}\n",
              ".list-inline>li:not(:last-child)::after {content: \"\\00b7\"; padding: 0 .5ex}\n",
              "</style>\n",
              "<ol class=list-inline><li>0.0390716903020069</li><li>0.0334037837144784</li><li>0.0473882989449968</li></ol>\n"
            ]
          },
          "metadata": {
            "tags": []
          }
        }
      ]
    },
    {
      "cell_type": "code",
      "metadata": {
        "colab": {
          "base_uri": "https://localhost:8080/",
          "height": 437
        },
        "id": "j1f-n5DiMQOL",
        "outputId": "daa0a92b-a4f4-4650-9221-d825e088fc3d"
      },
      "source": [
        "# Periodogram for Variable Temperature\n",
        "temp.pgram <- period.wge(dpFreeHour24$temperature,dbcalc=F)"
      ],
      "execution_count": 27,
      "outputs": [
        {
          "output_type": "display_data",
          "data": {
            "image/png": "[encoded data removed]",
            "text/plain": [
              "Plot with title “Periodogram”"
            ]
          },
          "metadata": {
            "tags": [],
            "image/png": {
              "width": 420,
              "height": 420
            }
          }
        }
      ]
    },
    {
      "cell_type": "code",
      "metadata": {
        "colab": {
          "base_uri": "https://localhost:8080/",
          "height": 34
        },
        "id": "iYVvMN8BMsRx",
        "outputId": "bf2da6fa-7331-4ff1-ceaf-7efb82846795"
      },
      "source": [
        "filter = temp.pgram$pgram > 60\n",
        "temp.dom <- temp.pgram$pgram[filter]\n",
        "temp.dom"
      ],
      "execution_count": 45,
      "outputs": [
        {
          "output_type": "display_data",
          "data": {
            "text/plain": [
              "[1] 75.99859"
            ],
            "text/latex": "75.9985907167673",
            "text/markdown": "75.9985907167673",
            "text/html": [
              "75.9985907167673"
            ]
          },
          "metadata": {
            "tags": []
          }
        }
      ]
    },
    {
      "cell_type": "code",
      "metadata": {
        "colab": {
          "base_uri": "https://localhost:8080/",
          "height": 34
        },
        "id": "nE01PN03QRB6",
        "outputId": "7adfc71e-ab6c-4d86-b685-4741c3881a6e"
      },
      "source": [
        "1/temp.dom"
      ],
      "execution_count": 46,
      "outputs": [
        {
          "output_type": "display_data",
          "data": {
            "text/plain": [
              "[1] 0.01315814"
            ],
            "text/latex": "0.0131581387308459",
            "text/markdown": "0.0131581387308459",
            "text/html": [
              "0.0131581387308459"
            ]
          },
          "metadata": {
            "tags": []
          }
        }
      ]
    },
    {
      "cell_type": "markdown",
      "metadata": {
        "id": "P9oa2J71QR3T"
      },
      "source": [
        "### Code Snippets"
      ]
    },
    {
      "cell_type": "code",
      "metadata": {
        "colab": {
          "base_uri": "https://localhost:8080/"
        },
        "id": "K0FK5uVu5ZN5",
        "outputId": "7e703bb5-ceab-43f9-f993-37636dd66ae5"
      },
      "source": [
        "install.packages('latex2exp')\n",
        "library(latex2exp)\n",
        "install.packages('Metrics')\n",
        "library(Metrics)"
      ],
      "execution_count": 12,
      "outputs": [
        {
          "output_type": "stream",
          "text": [
            "Installing package into ‘/usr/local/lib/R/site-library’\n",
            "(as ‘lib’ is unspecified)\n",
            "\n",
            "Installing package into ‘/usr/local/lib/R/site-library’\n",
            "(as ‘lib’ is unspecified)\n",
            "\n"
          ],
          "name": "stderr"
        }
      ]
    },
    {
      "cell_type": "code",
      "metadata": {
        "colab": {
          "base_uri": "https://localhost:8080/"
        },
        "id": "igCsh5AYBW-o",
        "outputId": "ca802300-1229-4f7d-c705-099b9f74b289"
      },
      "source": [
        "install.packages(\"tswge\")\n",
        "library(\"tswge\")"
      ],
      "execution_count": 13,
      "outputs": [
        {
          "output_type": "stream",
          "text": [
            "Installing package into ‘/usr/local/lib/R/site-library’\n",
            "(as ‘lib’ is unspecified)\n",
            "\n"
          ],
          "name": "stderr"
        }
      ]
    },
    {
      "cell_type": "code",
      "metadata": {
        "id": "vyMFlezy-N10"
      },
      "source": [
        "removeDuplicates <- function(data, timeBoundary = 450){\n",
        "\n",
        "  duplicateVector = c()\n",
        "  numRow <- length(data$result_time)\n",
        "\n",
        "  duplicateVector = c(duplicateVector, TRUE)\n",
        "  startTime <- strptime(data$result_time[1], \"%Y-%m-%d %H:%M:%S\")\n",
        "\n",
        "  for (i in 2:numRow){\n",
        "\n",
        "    nextTime <- strptime(data$result_time[i], \"%Y-%m-%d %H:%M:%S\")\n",
        "    timeDifference <- as.numeric(difftime(nextTime, startTime, units = c(\"secs\")))\n",
        "\n",
        "    if (timeDifference > timeBoundary){\n",
        "      duplicateVector = c(duplicateVector, TRUE)\n",
        "      startTime <- strptime(data$result_time[i], \"%Y-%m-%d %H:%M:%S\")\n",
        "    }\n",
        "    else{\n",
        "      duplicateVector = c(duplicateVector, FALSE)\n",
        "    }\n",
        "  }\n",
        "  return(data[duplicateVector,])\n",
        "}"
      ],
      "execution_count": 14,
      "outputs": []
    },
    {
      "cell_type": "code",
      "metadata": {
        "id": "t68ro9N0BJVV"
      },
      "source": [
        "mergeDF <- function(listofdf){\n",
        "  comboDf <- Reduce(function(x, y) merge(x, y, sort = TRUE, all = TRUE), listofdf)\n",
        "  return(comboDf)\n",
        "}"
      ],
      "execution_count": 15,
      "outputs": []
    },
    {
      "cell_type": "code",
      "metadata": {
        "id": "q3JjUWNnB9wM"
      },
      "source": [
        "aggregateOverTime <- function(variable, timePeriod, data)\n",
        "{\n",
        "  LEN <- length(data$result_time)\n",
        "\n",
        "  # initialize variables\n",
        "  v <- c()\n",
        "  currentCount <- 0\n",
        "  numIteration <- 0\n",
        "\n",
        "  # set time for begining of first period\n",
        "  periodStart <- strptime(\"2010-05-29 07:00:00\", \"%Y-%m-%d %H:%M:%S\")\n",
        "\n",
        "  # iterate through each row of the dataframe\n",
        "  for (i in 1:LEN)\n",
        "  {\n",
        "    # calculate the difference in time between the beginning of the period and the current row\n",
        "    currentTime <- data$result_time[i]\n",
        "    timeDifference <- as.numeric(difftime(currentTime, periodStart, units = c(\"secs\")))\n",
        "\n",
        "    # if the time difference is less then the period\n",
        "    if (timeDifference <= timePeriod)\n",
        "    {\n",
        "      # increment the variables\n",
        "      currentCount <- currentCount + data[[variable]][i]\n",
        "      numIteration <- numIteration + 1\n",
        "    }\n",
        "    # if the time difference is greater then the period\n",
        "    else\n",
        "    {\n",
        "      # append the average value of the variable being tracked to a vector\n",
        "      v <- c(v, currentCount / numIteration)\n",
        "      \n",
        "      # calculate how many periods were skipped and when the next period begins\n",
        "      sinceStart <- as.numeric(difftime(currentTime, periodStart, units = c(\"sec\")))\n",
        "      periodsSkipped <- floor(sinceStart / timePeriod)\n",
        "      periodTemp <- periodStart + (periodsSkipped * timePeriod)\n",
        "\n",
        "      # append a zero to the vector for each period skipped \n",
        "      if(periodsSkipped - 1 > 0)\n",
        "      {\n",
        "        temp <- rep(c(0), times = periodsSkipped - 1)\n",
        "        v <- c(v, temp)\n",
        "      }\n",
        "      \n",
        "      # redefine periodStart as the beginning of the new period\n",
        "      periodStart <- periodTemp\n",
        "\n",
        "      # initialize variables for new period\n",
        "      currentCount <- data[[variable]][i]\n",
        "      numIteration <- 1\n",
        "    }\n",
        "  }\n",
        "  return(v)\n",
        "}"
      ],
      "execution_count": 16,
      "outputs": []
    },
    {
      "cell_type": "code",
      "metadata": {
        "id": "UbKBKig3V8HG"
      },
      "source": [
        "# Calculate soil water potential from raw (mv) to kilo Pascals (kPa)\n",
        "\n",
        "calcSwp <- function(rawWP)\n",
        "{\n",
        "  a = 0.000048\n",
        "  b = 0.0846\n",
        "  c = 39.45\n",
        "\n",
        "  if(rawWP < 591 || rawWP > 841)\n",
        "  {\n",
        "    calWP = 0\n",
        "  }\n",
        "  else\n",
        "  {\n",
        "    calWP = -1.0 * exp((a * rawWP * rawWP) - (b * rawWP) + c)\n",
        "  }\n",
        "  return(calWP)\n",
        "}"
      ],
      "execution_count": 17,
      "outputs": []
    },
    {
      "cell_type": "code",
      "metadata": {
        "id": "8Mnckm9kJGmr"
      },
      "source": [
        "createDataTable <- function(time, data)\n",
        "{\n",
        "\n",
        "  adc0 <- aggregateOverTime(variable = 'adc0', timePeriod = time, data = data)\n",
        "  adc0Converted <- vapply(X = adc0, FUN = calcSwp, FUN.VALUE = numeric(1))\n",
        "\n",
        "  voltage <- aggregateOverTime(variable = 'voltage', timePeriod = time, data = data)\n",
        "\n",
        "  temperature <- aggregateOverTime(variable = 'humtemp', timePeriod = time, data = data)\n",
        "\n",
        "  return(data.frame(adc0 = adc0Converted, voltage, temperature))\n",
        "}"
      ],
      "execution_count": 18,
      "outputs": []
    },
    {
      "cell_type": "code",
      "metadata": {
        "id": "g7-77UgvAohX"
      },
      "source": [
        "data2003 <- read.csv(\"https://raw.githubusercontent.com/ds-wm/ds-wm.github.io/master/course/atsa/data/MDA300BKUP_resultsConverted-2YR_2003.txt\")\n",
        "data2015 <- read.csv(\"https://raw.githubusercontent.com/ds-wm/ds-wm.github.io/master/course/atsa/data/MDA300BKUP_resultsConverted-2YR_2015.txt\")\n",
        "data2025 <- read.csv(\"https://raw.githubusercontent.com/ds-wm/ds-wm.github.io/master/course/atsa/data/MDA300BKUP_resultsConverted-2YR_2025.txt\")\n",
        "data2045 <- read.csv(\"https://raw.githubusercontent.com/ds-wm/ds-wm.github.io/master/course/atsa/data/MDA300BKUP_resultsConverted-2YR_2045.txt\")\n",
        "data2055 <- read.csv(\"https://raw.githubusercontent.com/ds-wm/ds-wm.github.io/master/course/atsa/data/MDA300BKUP_resultsConverted-2YR_2055.txt\")\n",
        "data2065 <- read.csv(\"https://raw.githubusercontent.com/ds-wm/ds-wm.github.io/master/course/atsa/data/MDA300BKUP_resultsConverted-2YR_2065.txt\")\n",
        "data2085 <- read.csv(\"https://raw.githubusercontent.com/ds-wm/ds-wm.github.io/master/course/atsa/data/MDA300BKUP_resultsConverted-2YR_2085.txt\")\n",
        "data2095 <- read.csv(\"https://raw.githubusercontent.com/ds-wm/ds-wm.github.io/master/course/atsa/data/MDA300BKUP_resultsConverted-2YR_2095.txt\")\n",
        "data2103 <- read.csv(\"https://raw.githubusercontent.com/ds-wm/ds-wm.github.io/master/course/atsa/data/MDA300BKUP_resultsConverted-2YR_2103.txt\")\n",
        "data2115 <- read.csv(\"https://raw.githubusercontent.com/ds-wm/ds-wm.github.io/master/course/atsa/data/MDA300BKUP_resultsConverted-2YR_2115.txt\")\n",
        "data2125 <- read.csv(\"https://raw.githubusercontent.com/ds-wm/ds-wm.github.io/master/course/atsa/data/MDA300BKUP_resultsConverted-2YR_2125.txt\")\n",
        "data2135 <- read.csv(\"https://raw.githubusercontent.com/ds-wm/ds-wm.github.io/master/course/atsa/data/MDA300BKUP_resultsConverted-2YR_2135.txt\")"
      ],
      "execution_count": 19,
      "outputs": []
    },
    {
      "cell_type": "code",
      "metadata": {
        "id": "e-MI1PQxAwKO"
      },
      "source": [
        "dpFree2003 <- removeDuplicates(data2003)\n",
        "dpFree2015 <- removeDuplicates(data2015)\n",
        "dpFree2025 <- removeDuplicates(data2025)\n",
        "dpFree2045 <- removeDuplicates(data2045)\n",
        "dpFree2055 <- removeDuplicates(data2055)\n",
        "dpFree2065 <- removeDuplicates(data2065)\n",
        "dpFree2085 <- removeDuplicates(data2085)\n",
        "dpFree2095 <- removeDuplicates(data2095)\n",
        "dpFree2103 <- removeDuplicates(data2103)\n",
        "dpFree2115 <- removeDuplicates(data2115)\n",
        "dpFree2125 <- removeDuplicates(data2125)\n",
        "dpFree2135 <- removeDuplicates(data2135)"
      ],
      "execution_count": 20,
      "outputs": []
    },
    {
      "cell_type": "code",
      "metadata": {
        "id": "u_l2Eh_wAykq"
      },
      "source": [
        "dpFreeList <- list(dpFree2003, \n",
        "                   dpFree2015,\n",
        "                   dpFree2025,\n",
        "                   dpFree2045,\n",
        "                   dpFree2055,\n",
        "                   dpFree2065,\n",
        "                   dpFree2085,\n",
        "                   dpFree2095,\n",
        "                   dpFree2103,\n",
        "                   dpFree2115,\n",
        "                   dpFree2125,\n",
        "                   dpFree2135) "
      ],
      "execution_count": 21,
      "outputs": []
    },
    {
      "cell_type": "code",
      "metadata": {
        "id": "q8X4QYZ5A4hS"
      },
      "source": [
        "dpFreeAgg <- mergeDF(dpFreeList)\n",
        "dpFreeAgg$result_time <- strptime(dpFreeAgg$result_time, \"%Y-%m-%d %H:%M:%S\")"
      ],
      "execution_count": 22,
      "outputs": []
    },
    {
      "cell_type": "code",
      "metadata": {
        "id": "jxZzUV62KCmy"
      },
      "source": [
        "dpFreeHour24 <- createDataTable(24*60*60, dpFreeAgg)"
      ],
      "execution_count": 23,
      "outputs": []
    },
    {
      "cell_type": "code",
      "metadata": {
        "colab": {
          "base_uri": "https://localhost:8080/",
          "height": 437
        },
        "id": "E-xiJyf7LVh4",
        "outputId": "b137850a-c182-4c03-c96e-7bc6c4f33a8b"
      },
      "source": [
        "# Periodogram for Variable Water Potential\n",
        "water.pgram <- period.wge(dpFreeHour24$adc0,dbcalc=F)"
      ],
      "execution_count": 24,
      "outputs": [
        {
          "output_type": "display_data",
          "data": {
            "image/png": "[encoded data removed]",
            "text/plain": [
              "Plot with title “Periodogram”"
            ]
          },
          "metadata": {
            "tags": [],
            "image/png": {
              "width": 420,
              "height": 420
            }
          }
        }
      ]
    },
    {
      "cell_type": "code",
      "metadata": {
        "colab": {
          "base_uri": "https://localhost:8080/",
          "height": 437
        },
        "id": "9BKbZnyLU3HE",
        "outputId": "f11f5145-b0e9-4104-d4d5-0c0b925938bc"
      },
      "source": [
        "# Periodogram for Variable Voltage\n",
        "voltage.pgram <- period.wge(dpFreeHour24$voltage,dbcalc=F)"
      ],
      "execution_count": 25,
      "outputs": [
        {
          "output_type": "display_data",
          "data": {
            "image/png": "[encoded data removed]",
            "text/plain": [
              "Plot with title “Periodogram”"
            ]
          },
          "metadata": {
            "tags": [],
            "image/png": {
              "width": 420,
              "height": 420
            }
          }
        }
      ]
    },
    {
      "cell_type": "code",
      "metadata": {
        "colab": {
          "base_uri": "https://localhost:8080/",
          "height": 437
        },
        "id": "3ssHU7NgVBBF",
        "outputId": "1f5d3fe1-3e0b-4d62-dbe5-637ffef3d716"
      },
      "source": [
        "# Periodogram for Variable Temperature\n",
        "temp.pgram <- period.wge(dpFreeHour24$temperature,dbcalc=F)"
      ],
      "execution_count": 26,
      "outputs": [
        {
          "output_type": "display_data",
          "data": {
            "image/png": "[encoded data removed]",
            "text/plain": [
              "Plot with title “Periodogram”"
            ]
          },
          "metadata": {
            "tags": [],
            "image/png": {
              "width": 420,
              "height": 420
            }
          }
        }
      ]
    },
    {
      "cell_type": "markdown",
      "metadata": {
        "id": "nN2nW1BlRsNW"
      },
      "source": [
        "## References\n",
        "Davis, T. W. (2012). _Environmental monitoring through wireless sensor networks_ [Doctoral dissertation, University of Pittsburgh]. [d-scholarship.pitt.edu](http://d-scholarship.pitt.edu/16531/1/DAVISTW_ETD_2012.pdf)\n",
        "\n"
      ]
    }
  ]
}